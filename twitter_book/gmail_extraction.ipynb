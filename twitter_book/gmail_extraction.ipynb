{
 "cells": [
  {
   "cell_type": "markdown",
   "metadata": {},
   "source": [
    "### Email extractions from Gmail"
   ]
  },
  {
   "cell_type": "code",
   "execution_count": 3,
   "metadata": {},
   "outputs": [
    {
     "name": "stdout",
     "output_type": "stream",
     "text": [
      "Collecting google-auth\n",
      "  Using cached google_auth-2.33.0-py2.py3-none-any.whl.metadata (4.7 kB)\n",
      "Collecting google-auth-oauthlib\n",
      "  Using cached google_auth_oauthlib-1.2.1-py2.py3-none-any.whl.metadata (2.7 kB)\n",
      "Collecting google-auth-httplib2\n",
      "  Using cached google_auth_httplib2-0.2.0-py2.py3-none-any.whl.metadata (2.2 kB)\n",
      "Collecting google-api-python-client\n",
      "  Using cached google_api_python_client-2.141.0-py2.py3-none-any.whl.metadata (6.7 kB)\n",
      "Collecting cachetools<6.0,>=2.0.0 (from google-auth)\n",
      "  Using cached cachetools-5.4.0-py3-none-any.whl.metadata (5.3 kB)\n",
      "Collecting pyasn1-modules>=0.2.1 (from google-auth)\n",
      "  Using cached pyasn1_modules-0.4.0-py3-none-any.whl.metadata (3.4 kB)\n",
      "Collecting rsa<5,>=3.1.4 (from google-auth)\n",
      "  Using cached rsa-4.9-py3-none-any.whl.metadata (4.2 kB)\n",
      "Collecting requests-oauthlib>=0.7.0 (from google-auth-oauthlib)\n",
      "  Using cached requests_oauthlib-2.0.0-py2.py3-none-any.whl.metadata (11 kB)\n",
      "Collecting httplib2>=0.19.0 (from google-auth-httplib2)\n",
      "  Using cached httplib2-0.22.0-py3-none-any.whl.metadata (2.6 kB)\n",
      "Collecting google-api-core!=2.0.*,!=2.1.*,!=2.2.*,!=2.3.0,<3.0.0.dev0,>=1.31.5 (from google-api-python-client)\n",
      "  Using cached google_api_core-2.19.1-py3-none-any.whl.metadata (2.7 kB)\n",
      "Collecting uritemplate<5,>=3.0.1 (from google-api-python-client)\n",
      "  Using cached uritemplate-4.1.1-py2.py3-none-any.whl.metadata (2.9 kB)\n",
      "Collecting googleapis-common-protos<2.0.dev0,>=1.56.2 (from google-api-core!=2.0.*,!=2.1.*,!=2.2.*,!=2.3.0,<3.0.0.dev0,>=1.31.5->google-api-python-client)\n",
      "  Using cached googleapis_common_protos-1.63.2-py2.py3-none-any.whl.metadata (1.5 kB)\n",
      "Collecting protobuf!=3.20.0,!=3.20.1,!=4.21.0,!=4.21.1,!=4.21.2,!=4.21.3,!=4.21.4,!=4.21.5,<6.0.0.dev0,>=3.19.5 (from google-api-core!=2.0.*,!=2.1.*,!=2.2.*,!=2.3.0,<3.0.0.dev0,>=1.31.5->google-api-python-client)\n",
      "  Using cached protobuf-5.27.3-cp38-abi3-manylinux2014_x86_64.whl.metadata (592 bytes)\n",
      "Collecting proto-plus<2.0.0dev,>=1.22.3 (from google-api-core!=2.0.*,!=2.1.*,!=2.2.*,!=2.3.0,<3.0.0.dev0,>=1.31.5->google-api-python-client)\n",
      "  Using cached proto_plus-1.24.0-py3-none-any.whl.metadata (2.2 kB)\n",
      "Requirement already satisfied: requests<3.0.0.dev0,>=2.18.0 in /home/fd/.pyenv/versions/3.12.4/envs/llm2/lib/python3.12/site-packages (from google-api-core!=2.0.*,!=2.1.*,!=2.2.*,!=2.3.0,<3.0.0.dev0,>=1.31.5->google-api-python-client) (2.32.3)\n",
      "Collecting pyparsing!=3.0.0,!=3.0.1,!=3.0.2,!=3.0.3,<4,>=2.4.2 (from httplib2>=0.19.0->google-auth-httplib2)\n",
      "  Using cached pyparsing-3.1.2-py3-none-any.whl.metadata (5.1 kB)\n",
      "Collecting pyasn1<0.7.0,>=0.4.6 (from pyasn1-modules>=0.2.1->google-auth)\n",
      "  Using cached pyasn1-0.6.0-py2.py3-none-any.whl.metadata (8.3 kB)\n",
      "Collecting oauthlib>=3.0.0 (from requests-oauthlib>=0.7.0->google-auth-oauthlib)\n",
      "  Using cached oauthlib-3.2.2-py3-none-any.whl.metadata (7.5 kB)\n",
      "Requirement already satisfied: charset-normalizer<4,>=2 in /home/fd/.pyenv/versions/3.12.4/envs/llm2/lib/python3.12/site-packages (from requests<3.0.0.dev0,>=2.18.0->google-api-core!=2.0.*,!=2.1.*,!=2.2.*,!=2.3.0,<3.0.0.dev0,>=1.31.5->google-api-python-client) (3.3.2)\n",
      "Requirement already satisfied: idna<4,>=2.5 in /home/fd/.pyenv/versions/3.12.4/envs/llm2/lib/python3.12/site-packages (from requests<3.0.0.dev0,>=2.18.0->google-api-core!=2.0.*,!=2.1.*,!=2.2.*,!=2.3.0,<3.0.0.dev0,>=1.31.5->google-api-python-client) (3.7)\n",
      "Requirement already satisfied: urllib3<3,>=1.21.1 in /home/fd/.pyenv/versions/3.12.4/envs/llm2/lib/python3.12/site-packages (from requests<3.0.0.dev0,>=2.18.0->google-api-core!=2.0.*,!=2.1.*,!=2.2.*,!=2.3.0,<3.0.0.dev0,>=1.31.5->google-api-python-client) (2.2.2)\n",
      "Requirement already satisfied: certifi>=2017.4.17 in /home/fd/.pyenv/versions/3.12.4/envs/llm2/lib/python3.12/site-packages (from requests<3.0.0.dev0,>=2.18.0->google-api-core!=2.0.*,!=2.1.*,!=2.2.*,!=2.3.0,<3.0.0.dev0,>=1.31.5->google-api-python-client) (2024.7.4)\n",
      "Using cached google_auth-2.33.0-py2.py3-none-any.whl (200 kB)\n",
      "Using cached google_auth_oauthlib-1.2.1-py2.py3-none-any.whl (24 kB)\n",
      "Using cached google_auth_httplib2-0.2.0-py2.py3-none-any.whl (9.3 kB)\n",
      "Using cached google_api_python_client-2.141.0-py2.py3-none-any.whl (12.2 MB)\n",
      "Using cached cachetools-5.4.0-py3-none-any.whl (9.5 kB)\n",
      "Using cached google_api_core-2.19.1-py3-none-any.whl (139 kB)\n",
      "Using cached httplib2-0.22.0-py3-none-any.whl (96 kB)\n",
      "Using cached pyasn1_modules-0.4.0-py3-none-any.whl (181 kB)\n",
      "Using cached requests_oauthlib-2.0.0-py2.py3-none-any.whl (24 kB)\n",
      "Using cached rsa-4.9-py3-none-any.whl (34 kB)\n",
      "Using cached uritemplate-4.1.1-py2.py3-none-any.whl (10 kB)\n",
      "Using cached googleapis_common_protos-1.63.2-py2.py3-none-any.whl (220 kB)\n",
      "Using cached oauthlib-3.2.2-py3-none-any.whl (151 kB)\n",
      "Using cached proto_plus-1.24.0-py3-none-any.whl (50 kB)\n",
      "Using cached protobuf-5.27.3-cp38-abi3-manylinux2014_x86_64.whl (309 kB)\n",
      "Using cached pyasn1-0.6.0-py2.py3-none-any.whl (85 kB)\n",
      "Using cached pyparsing-3.1.2-py3-none-any.whl (103 kB)\n",
      "Installing collected packages: uritemplate, pyparsing, pyasn1, protobuf, oauthlib, cachetools, rsa, requests-oauthlib, pyasn1-modules, proto-plus, httplib2, googleapis-common-protos, google-auth, google-auth-oauthlib, google-auth-httplib2, google-api-core, google-api-python-client\n",
      "Successfully installed cachetools-5.4.0 google-api-core-2.19.1 google-api-python-client-2.141.0 google-auth-2.33.0 google-auth-httplib2-0.2.0 google-auth-oauthlib-1.2.1 googleapis-common-protos-1.63.2 httplib2-0.22.0 oauthlib-3.2.2 proto-plus-1.24.0 protobuf-5.27.3 pyasn1-0.6.0 pyasn1-modules-0.4.0 pyparsing-3.1.2 requests-oauthlib-2.0.0 rsa-4.9 uritemplate-4.1.1\n",
      "\n",
      "\u001b[1m[\u001b[0m\u001b[34;49mnotice\u001b[0m\u001b[1;39;49m]\u001b[0m\u001b[39;49m A new release of pip is available: \u001b[0m\u001b[31;49m24.0\u001b[0m\u001b[39;49m -> \u001b[0m\u001b[32;49m24.2\u001b[0m\n",
      "\u001b[1m[\u001b[0m\u001b[34;49mnotice\u001b[0m\u001b[1;39;49m]\u001b[0m\u001b[39;49m To update, run: \u001b[0m\u001b[32;49mpip install --upgrade pip\u001b[0m\n"
     ]
    }
   ],
   "source": [
    "!pip install google-auth google-auth-oauthlib google-auth-httplib2 google-api-python-client"
   ]
  },
  {
   "cell_type": "code",
   "execution_count": 5,
   "metadata": {},
   "outputs": [],
   "source": [
    "import os\n",
    "import pickle\n",
    "import json\n",
    "import base64\n",
    "import google.auth.transport.requests\n",
    "import google_auth_oauthlib.flow\n",
    "import googleapiclient.discovery\n",
    "from google.oauth2 import service_account\n",
    "\n",
    "\n",
    "# Constants\n",
    "SCOPES = [\"https://www.googleapis.com/auth/gmail.readonly\"]\n",
    "CLIENT_SECRET_FILE = \"client_secret_gmail.json\"\n",
    "TOKEN_FILE = \"token.pickle\"\n",
    "SERVICE_ACCOUNT_JSON = \"service_account.json\"\n",
    "\n",
    "# Authentication function for Gmail API\n",
    "def authenticate_gmail():\n",
    "    creds = None\n",
    "    # Check if token file exists and load credentials\n",
    "    if os.path.exists(TOKEN_FILE):\n",
    "        with open(TOKEN_FILE, \"rb\") as token:\n",
    "            creds = pickle.load(token)\n",
    "    # If credentials are not valid or don't exist, refresh or create new ones\n",
    "    if not creds or not creds.valid:\n",
    "        if creds and creds.expired and creds.refresh_token:\n",
    "            creds.refresh(google.auth.transport.requests.Request())\n",
    "        else:\n",
    "            flow = google_auth_oauthlib.flow.InstalledAppFlow.from_client_secrets_file(CLIENT_SECRET_FILE, SCOPES)\n",
    "            creds = flow.run_local_server(port=0)\n",
    "        # Save new credentials to token file\n",
    "        with open(TOKEN_FILE, \"wb\") as token:\n",
    "            pickle.dump(creds, token)\n",
    "    # Build and return Gmail API service\n",
    "    return googleapiclient.discovery.build(\"gmail\", \"v1\", credentials=creds)\n",
    "\n",
    "# Function to fetch emails from a specific sender and save their contents\n",
    "def get_emails(service, sender, max_results):\n",
    "    # List messages from the sender\n",
    "    results = service.users().messages().list(userId=\"me\", q=f\"from:{sender}\", maxResults=max_results).execute()\n",
    "    messages = results.get(\"messages\", [])\n",
    "    email_contents = []\n",
    "\n",
    "    # Iterate through messages and extract subject and body\n",
    "    for message in messages:\n",
    "        msg = service.users().messages().get(userId=\"me\", id=message[\"id\"]).execute()\n",
    "        msg_payload = msg.get(\"payload\")\n",
    "        headers = msg_payload.get(\"headers\")\n",
    "        parts = msg_payload.get(\"parts\")\n",
    "        data = \"\"\n",
    "\n",
    "        # Find the subject of the email\n",
    "        for header in headers:\n",
    "            if header.get(\"name\").lower() == \"subject\":\n",
    "                subject = header.get(\"value\")\n",
    "\n",
    "        # Extract the plain text body of the email\n",
    "        if parts:\n",
    "            for part in parts:\n",
    "                if part[\"mimeType\"] == \"text/plain\":\n",
    "                    data = base64.urlsafe_b64decode(part[\"body\"][\"data\"]).decode()\n",
    "\n",
    "        # Append subject and body to email_contents list\n",
    "        email_contents.append({\"subject\": subject, \"body\": data})\n",
    "\n",
    "    # Return the list of email contents\n",
    "    return email_contents\n",
    "\n",
    "# Function to save email contents to a JSON file\n",
    "def save_to_json(contents, filename=\"emails.json\"):\n",
    "    with open(filename, \"w\") as outfile:\n",
    "        json.dump(contents, outfile, indent=4)"
   ]
  },
  {
   "cell_type": "code",
   "execution_count": 6,
   "metadata": {},
   "outputs": [
    {
     "name": "stdout",
     "output_type": "stream",
     "text": [
      "Please visit this URL to authorize this application: https://accounts.google.com/o/oauth2/auth?response_type=code&client_id=472431379805-0fk314jqpf22u86f18pcq9ub1974qhmc.apps.googleusercontent.com&redirect_uri=http%3A%2F%2Flocalhost%3A40051%2F&scope=https%3A%2F%2Fwww.googleapis.com%2Fauth%2Fgmail.readonly&state=bXS8BoL1fXju93gLoV8httJmEiae3O&access_type=offline\n",
      "Emails saved to emails.json\n"
     ]
    }
   ],
   "source": [
    "# Autenticazione per Gmail\n",
    "gmail_service = authenticate_gmail()\n",
    "emails = get_emails(gmail_service, \"ainews@buttondown.email\", 5)\n",
    "save_to_json(emails)\n",
    "print(\"Emails saved to emails.json\")"
   ]
  },
  {
   "cell_type": "markdown",
   "metadata": {},
   "source": [
    "# Chiamata a Vertex"
   ]
  },
  {
   "cell_type": "code",
   "execution_count": null,
   "metadata": {},
   "outputs": [],
   "source": [
    "# Authenticates for Vertex AI\n",
    "def authenticate_vertex_ai():\n",
    "    credentials = service_account.Credentials.from_service_account_file(SERVICE_ACCOUNT_JSON)\n",
    "    aiplatform.init(credentials=credentials)\n",
    "\n",
    "# Example Vertex AI function\n",
    "def example_vertex_ai_function():\n",
    "    # Assumiamo che tu abbia già autenticato aiplatform.init()\n",
    "    # qui puoi implementare la tua logica per chiamare le API Vertex AI\n",
    "    print(\"Calling Vertex AI with authenticated credentials...\")\n",
    "    # Esempio di codice per fare una previsione o altro:\n",
    "    # prediction_client = aiplatform.gapic.PredictionServiceClient()\n",
    "    # ... o altra logica di Vertex AI"
   ]
  },
  {
   "cell_type": "code",
   "execution_count": null,
   "metadata": {},
   "outputs": [],
   "source": [
    "# Autenticazione per Vertex AI\n",
    "authenticate_vertex_ai()\n",
    "example_vertex_ai_function()"
   ]
  }
 ],
 "metadata": {
  "kernelspec": {
   "display_name": "llm2",
   "language": "python",
   "name": "python3"
  },
  "language_info": {
   "codemirror_mode": {
    "name": "ipython",
    "version": 3
   },
   "file_extension": ".py",
   "mimetype": "text/x-python",
   "name": "python",
   "nbconvert_exporter": "python",
   "pygments_lexer": "ipython3",
   "version": "3.12.4"
  }
 },
 "nbformat": 4,
 "nbformat_minor": 2
}
