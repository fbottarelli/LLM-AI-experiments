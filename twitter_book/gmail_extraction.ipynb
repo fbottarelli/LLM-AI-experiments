{
 "cells": [
  {
   "cell_type": "markdown",
   "metadata": {},
   "source": [
    "### Email extractions from Gmail"
   ]
  },
  {
   "cell_type": "code",
   "execution_count": null,
   "metadata": {},
   "outputs": [],
   "source": [
    "!pip install google-auth google-auth-oauthlib google-auth-httplib2 google-api-python-client tiktoken"
   ]
  },
  {
   "cell_type": "code",
   "execution_count": 5,
   "metadata": {},
   "outputs": [],
   "source": [
    "import os\n",
    "import pickle\n",
    "import json\n",
    "import base64\n",
    "import google.auth.transport.requests\n",
    "import google_auth_oauthlib.flow\n",
    "import googleapiclient.discovery\n",
    "from google.oauth2 import service_account\n",
    "\n",
    "\n",
    "# Constants\n",
    "SCOPES = [\"https://www.googleapis.com/auth/gmail.readonly\"]\n",
    "CLIENT_SECRET_FILE = \"client_secret_gmail.json\"\n",
    "TOKEN_FILE = \"token.pickle\"\n",
    "SERVICE_ACCOUNT_JSON = \"service_account.json\"\n",
    "\n",
    "# Authentication function for Gmail API\n",
    "def authenticate_gmail():\n",
    "    creds = None\n",
    "    # Check if token file exists and load credentials\n",
    "    if os.path.exists(TOKEN_FILE):\n",
    "        with open(TOKEN_FILE, \"rb\") as token:\n",
    "            creds = pickle.load(token)\n",
    "    # If credentials are not valid or don't exist, refresh or create new ones\n",
    "    if not creds or not creds.valid:\n",
    "        if creds and creds.expired and creds.refresh_token:\n",
    "            creds.refresh(google.auth.transport.requests.Request())\n",
    "        else:\n",
    "            flow = google_auth_oauthlib.flow.InstalledAppFlow.from_client_secrets_file(CLIENT_SECRET_FILE, SCOPES)\n",
    "            creds = flow.run_local_server(port=0)\n",
    "        # Save new credentials to token file\n",
    "        with open(TOKEN_FILE, \"wb\") as token:\n",
    "            pickle.dump(creds, token)\n",
    "    # Build and return Gmail API service\n",
    "    return googleapiclient.discovery.build(\"gmail\", \"v1\", credentials=creds)\n",
    "\n",
    "# Function to fetch emails from a specific sender and save their contents\n",
    "def get_emails(service, sender, max_results):\n",
    "    # List messages from the sender\n",
    "    results = service.users().messages().list(userId=\"me\", q=f\"from:{sender}\", maxResults=max_results).execute()\n",
    "    messages = results.get(\"messages\", [])\n",
    "    email_contents = []\n",
    "\n",
    "    # Iterate through messages and extract subject and body\n",
    "    for message in messages:\n",
    "        msg = service.users().messages().get(userId=\"me\", id=message[\"id\"]).execute()\n",
    "        msg_payload = msg.get(\"payload\")\n",
    "        headers = msg_payload.get(\"headers\")\n",
    "        parts = msg_payload.get(\"parts\")\n",
    "        data = \"\"\n",
    "\n",
    "        # Find the subject of the email\n",
    "        for header in headers:\n",
    "            if header.get(\"name\").lower() == \"subject\":\n",
    "                subject = header.get(\"value\")\n",
    "\n",
    "        # Extract the plain text body of the email\n",
    "        if parts:\n",
    "            for part in parts:\n",
    "                if part[\"mimeType\"] == \"text/plain\":\n",
    "                    data = base64.urlsafe_b64decode(part[\"body\"][\"data\"]).decode()\n",
    "\n",
    "        # Append subject and body to email_contents list\n",
    "        email_contents.append({\"subject\": subject, \"body\": data})\n",
    "\n",
    "    # Return the list of email contents\n",
    "    return email_contents\n",
    "\n",
    "# Function to save email contents to a JSON file\n",
    "def save_to_json(contents, filename=\"emails.json\"):\n",
    "    with open(filename, \"w\") as outfile:\n",
    "        json.dump(contents, outfile, indent=4)"
   ]
  },
  {
   "cell_type": "code",
   "execution_count": 6,
   "metadata": {},
   "outputs": [
    {
     "name": "stdout",
     "output_type": "stream",
     "text": [
      "Please visit this URL to authorize this application: https://accounts.google.com/o/oauth2/auth?response_type=code&client_id=472431379805-0fk314jqpf22u86f18pcq9ub1974qhmc.apps.googleusercontent.com&redirect_uri=http%3A%2F%2Flocalhost%3A40051%2F&scope=https%3A%2F%2Fwww.googleapis.com%2Fauth%2Fgmail.readonly&state=bXS8BoL1fXju93gLoV8httJmEiae3O&access_type=offline\n",
      "Emails saved to emails.json\n"
     ]
    }
   ],
   "source": [
    "# Autenticazione per Gmail\n",
    "gmail_service = authenticate_gmail()\n",
    "emails = get_emails(gmail_service, \"ainews@buttondown.email\", 5)\n",
    "save_to_json(emails)\n",
    "print(\"Emails saved to emails.json\")"
   ]
  },
  {
   "cell_type": "code",
   "execution_count": 13,
   "metadata": {},
   "outputs": [
    {
     "data": {
      "text/plain": [
       "13829.8"
      ]
     },
     "execution_count": 13,
     "metadata": {},
     "output_type": "execute_result"
    }
   ],
   "source": [
    "# analyze the email.json file\n",
    "import json\n",
    "import re\n",
    "import tiktoken\n",
    "\n",
    "# tiktoken\n",
    "enc = tiktoken.encoding_for_model(\"gpt-4o\")\n",
    "# Load the email contents from the JSON file\n",
    "with open(\"emails.json\", \"r\") as file:\n",
    "    emails = json.load(file)\n",
    "emails\n",
    "# length of for each element in the json file, in tokens\n",
    "for email in emails:\n",
    "    email[\"length\"] = len(enc.encode(email[\"body\"]))\n",
    "# average length of the emails\n",
    "total_length = sum(email[\"length\"] for email in emails)\n",
    "average_length = total_length / len(emails)\n",
    "average_length\n"
   ]
  },
  {
   "cell_type": "markdown",
   "metadata": {},
   "source": [
    "# Chiamata a Vertex"
   ]
  },
  {
   "cell_type": "code",
   "execution_count": null,
   "metadata": {},
   "outputs": [],
   "source": [
    "# Authenticates for Vertex AI\n",
    "def authenticate_vertex_ai():\n",
    "    credentials = service_account.Credentials.from_service_account_file(SERVICE_ACCOUNT_JSON)\n",
    "    aiplatform.init(credentials=credentials)\n",
    "\n",
    "# Example Vertex AI function\n",
    "def example_vertex_ai_function():\n",
    "    # Assumiamo che tu abbia già autenticato aiplatform.init()\n",
    "    # qui puoi implementare la tua logica per chiamare le API Vertex AI\n",
    "    print(\"Calling Vertex AI with authenticated credentials...\")\n",
    "    # Esempio di codice per fare una previsione o altro:\n",
    "    # prediction_client = aiplatform.gapic.PredictionServiceClient()\n",
    "    # ... o altra logica di Vertex AI"
   ]
  },
  {
   "cell_type": "code",
   "execution_count": null,
   "metadata": {},
   "outputs": [],
   "source": [
    "# Autenticazione per Vertex AI\n",
    "authenticate_vertex_ai()\n",
    "example_vertex_ai_function()"
   ]
  }
 ],
 "metadata": {
  "kernelspec": {
   "display_name": "llm2",
   "language": "python",
   "name": "python3"
  },
  "language_info": {
   "codemirror_mode": {
    "name": "ipython",
    "version": 3
   },
   "file_extension": ".py",
   "mimetype": "text/x-python",
   "name": "python",
   "nbconvert_exporter": "python",
   "pygments_lexer": "ipython3",
   "version": "3.12.4"
  }
 },
 "nbformat": 4,
 "nbformat_minor": 2
}
