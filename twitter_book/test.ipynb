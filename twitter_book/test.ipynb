{
 "cells": [
  {
   "cell_type": "code",
   "execution_count": null,
   "metadata": {},
   "outputs": [],
   "source": [
    "#!pip install google-cloud-aiplatform"
   ]
  },
  {
   "cell_type": "code",
   "execution_count": 6,
   "metadata": {},
   "outputs": [
    {
     "name": "stdout",
     "output_type": "stream",
     "text": [
      "Here are some name ideas for a flower shop specializing in dried flowers, playing on different themes:\n",
      "\n",
      "**Romantic & Elegant:**\n",
      "\n",
      "* Bloom & Evermore\n",
      "* The Dried Bloom\n",
      "* Everlasting Bouquet\n",
      "* Whispers of Wildflowers\n",
      "* Timeless Blooms\n",
      "* The Paper Petal\n",
      "* Dried & Divine\n",
      "* The Floral Archivist\n",
      "\n",
      "**Modern & Chic:**\n",
      "\n",
      "* The Dried Flower Co.\n",
      "* Bloom & Wither\n",
      "* Dusty Blooms\n",
      "* The Bloom Bar\n",
      "* Forever Wild\n",
      "* Botanical Alchemy\n",
      "* Petal & Stone\n",
      "* The Petal Press\n",
      "\n",
      "**Rustic & Natural:**\n",
      "\n",
      "* Wildflower Gatherings\n",
      "* Sun-Kissed Blooms\n",
      "* Meadow & Moss\n",
      "* The Farmhouse Florist\n",
      "* The Dried Garden\n",
      "* Botanical Treasures\n",
      "* Gather & Bloom\n",
      "* The Rustic Bouquet\n",
      "\n",
      "**Unique & Playful:**\n",
      "\n",
      "* The Flower Whisperer\n",
      "* Forever in Bloom\n",
      "* The Petal Potion\n",
      "* The Bloom Box\n",
      "* Bloom & Preserve\n",
      "* The Dried Bouquet Bar\n",
      "* The Flower Alchemist\n",
      "* The Bloom Apothecary\n",
      "\n",
      "**Tips for choosing the perfect name:**\n",
      "\n",
      "* **Consider your target audience:** What kind of vibe do you want to project?\n",
      "* **Keep it memorable & easy to pronounce:**  A catchy name will help people remember your shop.\n",
      "* **Check for availability:** Make sure the name isn't already taken.\n",
      "* **Reflect your brand:** Does the name accurately represent your style and focus on dried flowers?\n",
      "* **Get feedback:** Ask friends, family, and potential customers for their opinions. \n",
      "\n"
     ]
    }
   ],
   "source": [
    "# from google.cloud import aiplatform\n",
    "from vertexai import preview\n",
    "import vertexai\n",
    "from vertexai.generative_models import GenerativeModel\n",
    "\n",
    "# TODO(developer): Update and un-comment below line\n",
    "project_id = \"geminitesting-432015\"\n",
    "\n",
    "vertexai.init(project=project_id, location=\"europe-west1\")\n",
    "\n",
    "model = GenerativeModel(\"gemini-1.5-flash-001\")\n",
    "\n",
    "response = model.generate_content(\n",
    "    \"What's a good name for a flower shop that specializes in selling bouquets of dried flowers?\"\n",
    ")\n",
    "\n",
    "# \n",
    "print(response.text)"
   ]
  }
 ],
 "metadata": {
  "kernelspec": {
   "display_name": "llm",
   "language": "python",
   "name": "python3"
  },
  "language_info": {
   "codemirror_mode": {
    "name": "ipython",
    "version": 3
   },
   "file_extension": ".py",
   "mimetype": "text/x-python",
   "name": "python",
   "nbconvert_exporter": "python",
   "pygments_lexer": "ipython3",
   "version": "3.12.4"
  }
 },
 "nbformat": 4,
 "nbformat_minor": 2
}
