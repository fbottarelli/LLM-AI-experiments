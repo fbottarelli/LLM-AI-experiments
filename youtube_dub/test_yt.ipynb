{
 "cells": [
  {
   "cell_type": "code",
   "execution_count": 2,
   "metadata": {},
   "outputs": [
    {
     "name": "stdout",
     "output_type": "stream",
     "text": [
      "Collecting yt-dlp[default]\n",
      "  Using cached yt_dlp-2024.8.6-py3-none-any.whl.metadata (170 kB)\n",
      "Collecting brotli (from yt-dlp[default])\n",
      "  Downloading Brotli-1.1.0-cp312-cp312-manylinux_2_17_x86_64.manylinux2014_x86_64.whl.metadata (5.5 kB)\n",
      "Requirement already satisfied: certifi in /home/fd/.pyenv/versions/3.12.4/envs/llm/lib/python3.12/site-packages (from yt-dlp[default]) (2024.7.4)\n",
      "Collecting mutagen (from yt-dlp[default])\n",
      "  Using cached mutagen-1.47.0-py3-none-any.whl.metadata (1.7 kB)\n",
      "Collecting pycryptodomex (from yt-dlp[default])\n",
      "  Using cached pycryptodomex-3.20.0-cp35-abi3-manylinux_2_17_x86_64.manylinux2014_x86_64.whl.metadata (3.4 kB)\n",
      "Requirement already satisfied: requests<3,>=2.32.2 in /home/fd/.pyenv/versions/3.12.4/envs/llm/lib/python3.12/site-packages (from yt-dlp[default]) (2.32.3)\n",
      "Requirement already satisfied: urllib3<3,>=1.26.17 in /home/fd/.pyenv/versions/3.12.4/envs/llm/lib/python3.12/site-packages (from yt-dlp[default]) (2.2.2)\n",
      "Collecting websockets>=12.0 (from yt-dlp[default])\n",
      "  Downloading websockets-12.0-cp312-cp312-manylinux_2_5_x86_64.manylinux1_x86_64.manylinux_2_17_x86_64.manylinux2014_x86_64.whl.metadata (6.6 kB)\n",
      "Requirement already satisfied: charset-normalizer<4,>=2 in /home/fd/.pyenv/versions/3.12.4/envs/llm/lib/python3.12/site-packages (from requests<3,>=2.32.2->yt-dlp[default]) (3.3.2)\n",
      "Requirement already satisfied: idna<4,>=2.5 in /home/fd/.pyenv/versions/3.12.4/envs/llm/lib/python3.12/site-packages (from requests<3,>=2.32.2->yt-dlp[default]) (3.7)\n",
      "Downloading websockets-12.0-cp312-cp312-manylinux_2_5_x86_64.manylinux1_x86_64.manylinux_2_17_x86_64.manylinux2014_x86_64.whl (131 kB)\n",
      "\u001b[2K   \u001b[90m━━━━━━━━━━━━━━━━━━━━━━━━━━━━━━━━━━━━━━━━\u001b[0m \u001b[32m131.2/131.2 kB\u001b[0m \u001b[31m5.0 MB/s\u001b[0m eta \u001b[36m0:00:00\u001b[0m\n",
      "\u001b[?25hDownloading Brotli-1.1.0-cp312-cp312-manylinux_2_17_x86_64.manylinux2014_x86_64.whl (2.9 MB)\n",
      "\u001b[2K   \u001b[90m━━━━━━━━━━━━━━━━━━━━━━━━━━━━━━━━━━━━━━━━\u001b[0m \u001b[32m2.9/2.9 MB\u001b[0m \u001b[31m13.1 MB/s\u001b[0m eta \u001b[36m0:00:00\u001b[0m00:01\u001b[0m00:01\u001b[0m\n",
      "\u001b[?25hUsing cached mutagen-1.47.0-py3-none-any.whl (194 kB)\n",
      "Using cached pycryptodomex-3.20.0-cp35-abi3-manylinux_2_17_x86_64.manylinux2014_x86_64.whl (2.1 MB)\n",
      "Using cached yt_dlp-2024.8.6-py3-none-any.whl (3.1 MB)\n",
      "Installing collected packages: brotli, websockets, pycryptodomex, mutagen, yt-dlp\n",
      "Successfully installed brotli-1.1.0 mutagen-1.47.0 pycryptodomex-3.20.0 websockets-12.0 yt-dlp-2024.8.6\n",
      "\n",
      "\u001b[1m[\u001b[0m\u001b[34;49mnotice\u001b[0m\u001b[1;39;49m]\u001b[0m\u001b[39;49m A new release of pip is available: \u001b[0m\u001b[31;49m24.0\u001b[0m\u001b[39;49m -> \u001b[0m\u001b[32;49m24.2\u001b[0m\n",
      "\u001b[1m[\u001b[0m\u001b[34;49mnotice\u001b[0m\u001b[1;39;49m]\u001b[0m\u001b[39;49m To update, run: \u001b[0m\u001b[32;49mpip install --upgrade pip\u001b[0m\n"
     ]
    }
   ],
   "source": [
    "!pip install yt-dlp[default]"
   ]
  },
  {
   "cell_type": "code",
   "execution_count": 7,
   "metadata": {},
   "outputs": [
    {
     "name": "stdout",
     "output_type": "stream",
     "text": [
      "[youtube] Extracting URL: https://www.youtube.com/watch?v=ZJlfF1ESXVw&t=1750s\n",
      "[youtube] ZJlfF1ESXVw: Downloading webpage\n",
      "[youtube] ZJlfF1ESXVw: Downloading ios player API JSON\n",
      "[youtube] ZJlfF1ESXVw: Downloading web creator player API JSON\n",
      "[youtube] ZJlfF1ESXVw: Downloading m3u8 information\n",
      "[info] ZJlfF1ESXVw: Downloading 1 format(s): 140\n",
      "[download] Destination: Breaking Down & Testing FIVE LLM Agent Architectures - (Reflexion, LATs, P&E, ReWOO, LLMCompiler) [ZJlfF1ESXVw].m4a\n",
      "[download] 100% of   33.94MiB in 00:00:01 at 20.47MiB/s    \n",
      "[FixupM4a] Correcting container of \"Breaking Down & Testing FIVE LLM Agent Architectures - (Reflexion, LATs, P&E, ReWOO, LLMCompiler) [ZJlfF1ESXVw].m4a\"\n",
      "[ExtractAudio] Not converting audio Breaking Down & Testing FIVE LLM Agent Architectures - (Reflexion, LATs, P&E, ReWOO, LLMCompiler) [ZJlfF1ESXVw].m4a; file is already in target format m4a\n"
     ]
    }
   ],
   "source": [
    "import json\n",
    "import yt_dlp\n",
    "\n",
    "URLS = [\"https://www.youtube.com/watch?v=ZJlfF1ESXVw&t=1750s\"]\n",
    "\n",
    "\n",
    "ydl_opts = {\n",
    "    'format': 'm4a/bestaudio/best',\n",
    "    # ℹ️ See help(yt_dlp.postprocessor) for a list of available Postprocessors and their arguments\n",
    "    'postprocessors': [{  # Extract audio using ffmpeg\n",
    "        'key': 'FFmpegExtractAudio',\n",
    "        'preferredcodec': 'm4a',\n",
    "    }]\n",
    "}\n",
    "\n",
    "with yt_dlp.YoutubeDL(ydl_opts) as ydl:\n",
    "    error_code = ydl.download(URLS)"
   ]
  },
  {
   "cell_type": "code",
   "execution_count": 9,
   "metadata": {},
   "outputs": [
    {
     "name": "stdout",
     "output_type": "stream",
     "text": [
      "[youtube] Extracting URL: https://www.youtube.com/watch?v=ZJlfF1ESXVw&t=1750s\n",
      "[youtube] ZJlfF1ESXVw: Downloading webpage\n",
      "[youtube] ZJlfF1ESXVw: Downloading ios player API JSON\n",
      "[youtube] ZJlfF1ESXVw: Downloading web creator player API JSON\n",
      "[youtube] ZJlfF1ESXVw: Downloading m3u8 information\n",
      "[info] ZJlfF1ESXVw: Downloading 1 format(s): 140\n",
      "[download] Destination: Breaking Down & Testing FIVE LLM Agent Architectures - (Reflexion, LATs, P&E, ReWOO, LLMCompiler).m4a\n",
      "[download] 100% of   33.94MiB in 00:00:02 at 11.77MiB/s    \n",
      "[FixupM4a] Correcting container of \"Breaking Down & Testing FIVE LLM Agent Architectures - (Reflexion, LATs, P&E, ReWOO, LLMCompiler).m4a\"\n",
      "[ExtractAudio] Not converting audio Breaking Down & Testing FIVE LLM Agent Architectures - (Reflexion, LATs, P&E, ReWOO, LLMCompiler).m4a; file is already in target format m4a\n"
     ]
    }
   ],
   "source": [
    "import json\n",
    "import yt_dlp\n",
    "\n",
    "URLS = [\"https://www.youtube.com/watch?v=ZJlfF1ESXVw&t=1750s\"]\n",
    "\n",
    "ydl_opts = {\n",
    "    'format': 'm4a/bestaudio/best',\n",
    "    'postprocessors': [{\n",
    "        'key': 'FFmpegExtractAudio',\n",
    "        'preferredcodec': 'm4a',\n",
    "        'preferredquality': '192',\n",
    "    }],\n",
    "    'write-info-json': True,  # Save metadata including chapter info\n",
    "    'embed-chapters': True,    # Embed chapter info into the audio file\n",
    "    'outtmpl': '%(title)s.%(ext)s',  # Output filename template\n",
    "}\n",
    "\n",
    "with yt_dlp.YoutubeDL(ydl_opts) as ydl:\n",
    "    for url in URLS:\n",
    "        ydl.download([url])\n"
   ]
  },
  {
   "cell_type": "code",
   "execution_count": 10,
   "metadata": {},
   "outputs": [
    {
     "name": "stdout",
     "output_type": "stream",
     "text": [
      "Chapters:\n",
      "Intro (Starts at 0.0 seconds)\n",
      "Basic Reflection (Starts at 68.0 seconds)\n",
      "Basic Reflection Testing (Starts at 164.0 seconds)\n",
      "Reflexion Actor (Starts at 392.0 seconds)\n",
      "Reflexion Action Testing (Starts at 597.0 seconds)\n",
      "Language Agent Tree Search (LATs) (Starts at 745.0 seconds)\n",
      "LATs Testing (Starts at 1024.0 seconds)\n",
      "Plan And Execute (Starts at 1254.0 seconds)\n",
      "Plan And Execute Testing (Starts at 1418.0 seconds)\n",
      "Reasoning Without Observation (ReWOO) (Starts at 1588.0 seconds)\n",
      "ReWOO Testing (Starts at 1766.0 seconds)\n",
      "LLMCompiler (Starts at 1871.0 seconds)\n",
      "LLMCompiler Testing (Starts at 2119.0 seconds)\n",
      "Outro (Starts at 2165.0 seconds)\n"
     ]
    }
   ],
   "source": [
    "import yt_dlp\n",
    "\n",
    "# Specify the URL of the video\n",
    "URL = \"https://www.youtube.com/watch?v=ZJlfF1ESXVw&t=1750s\"\n",
    "\n",
    "# Define options for yt-dlp\n",
    "ydl_opts = {\n",
    "    'quiet': True,  # Suppress output\n",
    "    'skip_download': True,  # Skip downloading the video\n",
    "    'extract_flat': True,  # Extract metadata only\n",
    "}\n",
    "\n",
    "# Create a YoutubeDL object with the specified options\n",
    "with yt_dlp.YoutubeDL(ydl_opts) as ydl:\n",
    "    # Extract information from the video\n",
    "    info_dict = ydl.extract_info(URL, download=False)\n",
    "    \n",
    "    # Check if chapters are available\n",
    "    chapters = info_dict.get('chapters', [])\n",
    "    \n",
    "    # Print chapter information\n",
    "    if chapters:\n",
    "        print(\"Chapters:\")\n",
    "        for chapter in chapters:\n",
    "            start_time = chapter['start_time']\n",
    "            title = chapter['title']\n",
    "            print(f\"{title} (Starts at {start_time} seconds)\")\n",
    "    else:\n",
    "        print(\"No chapters found.\")\n"
   ]
  }
 ],
 "metadata": {
  "kernelspec": {
   "display_name": "llm",
   "language": "python",
   "name": "python3"
  },
  "language_info": {
   "codemirror_mode": {
    "name": "ipython",
    "version": 3
   },
   "file_extension": ".py",
   "mimetype": "text/x-python",
   "name": "python",
   "nbconvert_exporter": "python",
   "pygments_lexer": "ipython3",
   "version": "3.12.4"
  }
 },
 "nbformat": 4,
 "nbformat_minor": 2
}
