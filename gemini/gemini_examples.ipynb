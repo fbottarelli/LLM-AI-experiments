{
 "cells": [
  {
   "cell_type": "code",
   "execution_count": 2,
   "metadata": {},
   "outputs": [
    {
     "name": "stdout",
     "output_type": "stream",
     "text": [
      "New working directory: /home/fd/repo/AI/LLM-AI-experiments\n"
     ]
    }
   ],
   "source": [
    "# modifica al path del progetto\n",
    "import os\n",
    "# Modifica il percorso di lavoro se necessario\n",
    "os.chdir('..')\n",
    "# Stampa di nuovo il percorso di lavoro per conferma\n",
    "print(\"New working directory:\", os.getcwd())"
   ]
  },
  {
   "cell_type": "code",
   "execution_count": 3,
   "metadata": {},
   "outputs": [],
   "source": [
    "import vertexai\n",
    "from vertexai.generative_models import GenerativeModel\n",
    "import os\n",
    "from dotenv import load_dotenv\n",
    "\n",
    "load_dotenv()\n",
    "\n",
    "project_id = os.getenv(\"gemini_project_id\")\n",
    "location = os.getenv(\"gemini_location\")"
   ]
  },
  {
   "cell_type": "code",
   "execution_count": 4,
   "metadata": {},
   "outputs": [
    {
     "name": "stdout",
     "output_type": "stream",
     "text": [
      "Here are some name ideas for a flower shop specializing in dried flowers, playing on different themes:\n",
      "\n",
      "**Whimsical & Romantic:**\n",
      "\n",
      "* The Dried Bloom\n",
      "* Petals & Memories\n",
      "* Whispers of Bloom\n",
      "* Everlasting Blooms\n",
      "* Bloom & Beyond\n",
      "* The Dried Bouquet\n",
      "* Timeless Florals\n",
      "* Wildflower Reverie\n",
      "* Sun-Kissed Blooms\n",
      "* The Dried Garden\n",
      "\n",
      "**Modern & Minimalist:**\n",
      "\n",
      "* Bloom & Co.\n",
      "* The Dried Flower Studio\n",
      "* Flora & Co.\n",
      "* Bloom Lab\n",
      "* Botanical Haven\n",
      "* The Flower Preserve\n",
      "* The Bloom Bar\n",
      "* The Dried Bouquet Co.\n",
      "* Gather & Bloom\n",
      "* Bloom & Co.\n",
      "\n",
      "**Unique & Playful:**\n",
      "\n",
      "* The Flower Press\n",
      "* The Bloom Vault\n",
      "* Forever Blooms\n",
      "* The Dried Flower Market\n",
      "* Dusty Blooms\n",
      "* Bloom & Dust\n",
      "* The Flower Apothecary\n",
      "* The Paper Petal\n",
      "* The Dried Bouquet Bar\n",
      "* The Bloom Archive\n",
      "\n",
      "**Location-Specific:**\n",
      "\n",
      "* [Your City] Dried Flowers\n",
      "* [Your Neighborhood] Bloom\n",
      "* [Your Street] Flower Market\n",
      "\n",
      "**Tips for choosing the best name:**\n",
      "\n",
      "* **Keep it short and memorable.**\n",
      "* **Make sure it's easy to pronounce and spell.**\n",
      "* **Consider your target audience.**\n",
      "* **Check for availability of the domain name and social media handles.**\n",
      "* **Get feedback from friends and family.**\n",
      "\n",
      "Good luck choosing the perfect name for your flower shop! \n",
      "\n"
     ]
    }
   ],
   "source": [
    "\n",
    "\n",
    "vertexai.init(project=project_id, location=\"us-central1\")\n",
    "\n",
    "model = GenerativeModel(\"gemini-1.5-flash-001\")\n",
    "\n",
    "response = model.generate_content(\n",
    "    \"What's a good name for a flower shop that specializes in selling bouquets of dried flowers?\"\n",
    ")\n",
    "\n",
    "print(response.text)"
   ]
  },
  {
   "cell_type": "markdown",
   "metadata": {},
   "source": [
    "### Image integration"
   ]
  },
  {
   "cell_type": "code",
   "execution_count": 5,
   "metadata": {},
   "outputs": [
    {
     "name": "stdout",
     "output_type": "stream",
     "text": [
      "The image shows a delicious spread of blueberry scones, fresh blueberries, and coffee,  perfect for a relaxing afternoon tea. The scones are topped with blueberries and a light dusting of powdered sugar, and are served on a white napkin with a spoon that says \"Let's Jam.\" The coffee is served in a white mug with a handle and the blueberries are presented in a brown ceramic bowl. The image is completed with a sprig of pink peonies in the background, adding a touch of elegance and natural beauty. The overall composition is visually appealing and evokes a sense of warmth and indulgence.\n"
     ]
    }
   ],
   "source": [
    "import vertexai\n",
    "\n",
    "from vertexai.generative_models import GenerativeModel, Part\n",
    "\n",
    "# TODO(developer): Update and un-comment below line\n",
    "# project_id = \"PROJECT_ID\"\n",
    "\n",
    "vertexai.init(project=project_id, location=location)\n",
    "\n",
    "model = GenerativeModel(\"gemini-1.5-flash-001\")\n",
    "\n",
    "response = model.generate_content(\n",
    "    [\n",
    "        Part.from_uri(\n",
    "            \"gs://cloud-samples-data/generative-ai/image/scones.jpg\",\n",
    "            mime_type=\"image/jpeg\",\n",
    "        ),\n",
    "        \"What is shown in this image?\",\n",
    "    ]\n",
    ")\n",
    "\n",
    "print(response.text)"
   ]
  },
  {
   "cell_type": "markdown",
   "metadata": {},
   "source": [
    "### Audio Integration"
   ]
  },
  {
   "cell_type": "code",
   "execution_count": null,
   "metadata": {},
   "outputs": [],
   "source": [
    "\n",
    "import vertexai\n",
    "from vertexai.generative_models import GenerativeModel, Part\n",
    "from gemini.prompt import audio_transcription\n",
    "\n",
    "# TODO(developer): Update and un-comment below lines\n",
    "# project_id = \"PROJECT_ID\"\n",
    "\n",
    "vertexai.init(project=project_id, location=location)\n",
    "\n",
    "model = GenerativeModel(\"gemini-1.5-flash-001\")\n",
    "\n",
    "prompt = audio_transcription\n",
    "audio_file_path = \"media/gemini/media/filename.mp3\"\n",
    "\n",
    "# Read the audio file in binary mode\n",
    "with open(audio_file_path, \"rb\") as audio_file:\n",
    "    audio_bytes = audio_file.read()\n",
    "\n",
    "audio_part = Part.from_data(audio_bytes, mime_type=\"audio/mp3\")\n",
    "\n",
    "contents = [audio_part, prompt]\n",
    "\n",
    "# Counts tokens\n",
    "print(model.count_tokens(contents))\n",
    "response = model.generate_content(contents)\n",
    "print(response.text)\n"
   ]
  },
  {
   "cell_type": "code",
   "execution_count": null,
   "metadata": {},
   "outputs": [],
   "source": []
  }
 ],
 "metadata": {
  "kernelspec": {
   "display_name": "Python (uv_env)",
   "language": "python",
   "name": "my_uv_env"
  },
  "language_info": {
   "codemirror_mode": {
    "name": "ipython",
    "version": 3
   },
   "file_extension": ".py",
   "mimetype": "text/x-python",
   "name": "python",
   "nbconvert_exporter": "python",
   "pygments_lexer": "ipython3",
   "version": "3.12.5"
  }
 },
 "nbformat": 4,
 "nbformat_minor": 2
}
